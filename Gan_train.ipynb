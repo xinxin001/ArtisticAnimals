{
  "nbformat": 4,
  "nbformat_minor": 0,
  "metadata": {
    "colab": {
      "name": "Gan_train.ipynb",
      "provenance": [],
      "collapsed_sections": []
    },
    "kernelspec": {
      "name": "python3",
      "display_name": "Python 3"
    }
  },
  "cells": [
    {
      "cell_type": "code",
      "metadata": {
        "id": "7rR8HP2hPS37"
      },
      "source": [
        "def hms_string(sec_elapsed):\n",
        "    h = int(sec_elapsed / (60 * 60))\n",
        "    m = int((sec_elapsed % (60 * 60)) / 60)\n",
        "    s = sec_elapsed % 60\n",
        "    return \"{}:{:>02}:{:>05.2f}\".format(h, m, s)"
      ],
      "execution_count": 34,
      "outputs": []
    },
    {
      "cell_type": "code",
      "metadata": {
        "id": "1DrqF_LEpr0r",
        "outputId": "6ec2c2aa-b90b-4596-8c04-087a1efa8cf8",
        "colab": {
          "base_uri": "https://localhost:8080/",
          "height": 35
        }
      },
      "source": [
        "from google.colab import drive\n",
        "drive.mount('/content/drive')"
      ],
      "execution_count": 19,
      "outputs": [
        {
          "output_type": "stream",
          "text": [
            "Drive already mounted at /content/drive; to attempt to forcibly remount, call drive.mount(\"/content/drive\", force_remount=True).\n"
          ],
          "name": "stdout"
        }
      ]
    },
    {
      "cell_type": "code",
      "metadata": {
        "id": "XjMKAWGRqSON"
      },
      "source": [
        "import sys\n",
        "sys.path.append('/content/drive/My Drive/Colab Notebooks/GDL_code/utils')\n",
        "sys.path.append('/content/drive/My Drive/Colab Notebooks/GDL_code/models')"
      ],
      "execution_count": 20,
      "outputs": []
    },
    {
      "cell_type": "code",
      "metadata": {
        "id": "I_M03SMeqkiT"
      },
      "source": [
        "import tensorflow as tf\n",
        "\n",
        "from keras.layers import Input, Conv2D, Flatten, Dense, Conv2DTranspose, Reshape, Lambda, Activation, BatchNormalization, LeakyReLU, Dropout, ZeroPadding2D, UpSampling2D\n",
        "\n",
        "from keras.models import Model, Sequential\n",
        "from keras import backend as K\n",
        "from keras.optimizers import Adam, RMSprop\n",
        "from keras.utils import plot_model\n",
        "from keras.initializers import RandomNormal\n",
        "\n",
        "import numpy as np\n",
        "from PIL import Image\n",
        "import json\n",
        "import os\n",
        "import time\n",
        "from tqdm import tqdm\n",
        "import pickle as pkl\n",
        "import matplotlib.pyplot as plt\n",
        "\n",
        "from loaders import load_safari"
      ],
      "execution_count": 43,
      "outputs": []
    },
    {
      "cell_type": "code",
      "metadata": {
        "id": "_50_uU5Hrja3",
        "cellView": "form"
      },
      "source": [
        "#@title\n",
        "#GAN built following the Generative Deep Learning book by David Foster\n",
        "#https://github.com/davidADSP/GDL_code\n",
        "class GAN():\n",
        "    def __init__(self\n",
        "        , input_dim\n",
        "        , discriminator_conv_filters\n",
        "        , discriminator_conv_kernel_size\n",
        "        , discriminator_conv_strides\n",
        "        , discriminator_batch_norm_momentum\n",
        "        , discriminator_activation\n",
        "        , discriminator_dropout_rate\n",
        "        , discriminator_learning_rate\n",
        "        , generator_initial_dense_layer_size\n",
        "        , generator_upsample\n",
        "        , generator_conv_filters\n",
        "        , generator_conv_kernel_size\n",
        "        , generator_conv_strides\n",
        "        , generator_batch_norm_momentum\n",
        "        , generator_activation\n",
        "        , generator_dropout_rate\n",
        "        , generator_learning_rate\n",
        "        , optimiser\n",
        "        , z_dim\n",
        "        ):\n",
        "\n",
        "        self.name = 'gan'\n",
        "\n",
        "        self.input_dim = input_dim\n",
        "        self.discriminator_conv_filters = discriminator_conv_filters\n",
        "        self.discriminator_conv_kernel_size = discriminator_conv_kernel_size\n",
        "        self.discriminator_conv_strides = discriminator_conv_strides\n",
        "        self.discriminator_batch_norm_momentum = discriminator_batch_norm_momentum\n",
        "        self.discriminator_activation = discriminator_activation\n",
        "        self.discriminator_dropout_rate = discriminator_dropout_rate\n",
        "        self.discriminator_learning_rate = discriminator_learning_rate\n",
        "\n",
        "        self.generator_initial_dense_layer_size = generator_initial_dense_layer_size\n",
        "        self.generator_upsample = generator_upsample\n",
        "        self.generator_conv_filters = generator_conv_filters\n",
        "        self.generator_conv_kernel_size = generator_conv_kernel_size\n",
        "        self.generator_conv_strides = generator_conv_strides\n",
        "        self.generator_batch_norm_momentum = generator_batch_norm_momentum\n",
        "        self.generator_activation = generator_activation\n",
        "        self.generator_dropout_rate = generator_dropout_rate\n",
        "        self.generator_learning_rate = generator_learning_rate\n",
        "        \n",
        "        self.optimiser = optimiser\n",
        "        self.z_dim = z_dim\n",
        "\n",
        "        self.n_layers_discriminator = len(discriminator_conv_filters)\n",
        "        self.n_layers_generator = len(generator_conv_filters)\n",
        "\n",
        "        self.weight_init = RandomNormal(mean=0., stddev=0.02)\n",
        "\n",
        "        self.d_losses = []\n",
        "        self.g_losses = []\n",
        "\n",
        "        self.epoch = 0\n",
        "\n",
        "        self._build_discriminator()\n",
        "        self._build_generator()\n",
        "\n",
        "        self._build_adversarial()\n",
        "\n",
        "    def get_activation(self, activation):\n",
        "        if activation == 'leaky_relu':\n",
        "            layer = LeakyReLU(alpha = 0.2)\n",
        "        else:\n",
        "            layer = Activation(activation)\n",
        "        return layer\n",
        "\n",
        "    def _build_discriminator(self):\n",
        "\n",
        "        ### THE discriminator\n",
        "        discriminator_input = Input(shape=self.input_dim, name='discriminator_input')\n",
        "\n",
        "        x = discriminator_input\n",
        "\n",
        "        for i in range(self.n_layers_discriminator):\n",
        "\n",
        "            x = Conv2D(\n",
        "                filters = self.discriminator_conv_filters[i]\n",
        "                , kernel_size = self.discriminator_conv_kernel_size[i]\n",
        "                , strides = self.discriminator_conv_strides[i]\n",
        "                , padding = 'same'\n",
        "                , name = 'discriminator_conv_' + str(i)\n",
        "                , kernel_initializer = self.weight_init\n",
        "                )(x)\n",
        "\n",
        "            if self.discriminator_batch_norm_momentum and i > 0:\n",
        "                x = BatchNormalization(momentum = self.discriminator_batch_norm_momentum)(x)\n",
        "\n",
        "            x = self.get_activation(self.discriminator_activation)(x)\n",
        "\n",
        "            if self.discriminator_dropout_rate:\n",
        "                x = Dropout(rate = self.discriminator_dropout_rate)(x)\n",
        "\n",
        "        x = Flatten()(x)\n",
        "        \n",
        "        discriminator_output = Dense(1, activation='sigmoid', kernel_initializer = self.weight_init)(x)\n",
        "\n",
        "        self.discriminator = Model(discriminator_input, discriminator_output)\n",
        "\n",
        "\n",
        "    def _build_generator(self):\n",
        "\n",
        "        ### THE generator\n",
        "\n",
        "        generator_input = Input(shape=(self.z_dim,), name='generator_input')\n",
        "\n",
        "        x = generator_input\n",
        "\n",
        "        x = Dense(np.prod(self.generator_initial_dense_layer_size), kernel_initializer = self.weight_init)(x)\n",
        "\n",
        "        if self.generator_batch_norm_momentum:\n",
        "            x = BatchNormalization(momentum = self.generator_batch_norm_momentum)(x)\n",
        "\n",
        "        x = self.get_activation(self.generator_activation)(x)\n",
        "\n",
        "        x = Reshape(self.generator_initial_dense_layer_size)(x)\n",
        "\n",
        "        if self.generator_dropout_rate:\n",
        "            x = Dropout(rate = self.generator_dropout_rate)(x)\n",
        "\n",
        "        for i in range(self.n_layers_generator):\n",
        "\n",
        "            if self.generator_upsample[i] == 2:\n",
        "                x = UpSampling2D()(x)\n",
        "                x = Conv2D(\n",
        "                    filters = self.generator_conv_filters[i]\n",
        "                    , kernel_size = self.generator_conv_kernel_size[i]\n",
        "                    , padding = 'same'\n",
        "                    , name = 'generator_conv_' + str(i)\n",
        "                    , kernel_initializer = self.weight_init\n",
        "                )(x)\n",
        "            else:\n",
        "\n",
        "                x = Conv2DTranspose(\n",
        "                    filters = self.generator_conv_filters[i]\n",
        "                    , kernel_size = self.generator_conv_kernel_size[i]\n",
        "                    , padding = 'same'\n",
        "                    , strides = self.generator_conv_strides[i]\n",
        "                    , name = 'generator_conv_' + str(i)\n",
        "                    , kernel_initializer = self.weight_init\n",
        "                    )(x)\n",
        "\n",
        "            if i < self.n_layers_generator - 1:\n",
        "\n",
        "                if self.generator_batch_norm_momentum:\n",
        "                    x = BatchNormalization(momentum = self.generator_batch_norm_momentum)(x)\n",
        "\n",
        "                x = self.get_activation(self.generator_activation)(x)\n",
        "                    \n",
        "                \n",
        "            else:\n",
        "\n",
        "                x = Activation('tanh')(x)\n",
        "\n",
        "\n",
        "        generator_output = x\n",
        "\n",
        "        self.generator = Model(generator_input, generator_output)\n",
        "\n",
        "       \n",
        "    def get_opti(self, lr):\n",
        "        if self.optimiser == 'adam':\n",
        "            opti = Adam(lr=lr, beta_1=0.5)\n",
        "        elif self.optimiser == 'rmsprop':\n",
        "            opti = RMSprop(lr=lr)\n",
        "        else:\n",
        "            opti = Adam(lr=lr)\n",
        "\n",
        "        return opti\n",
        "\n",
        "    def set_trainable(self, m, val):\n",
        "        m.trainable = val\n",
        "        for l in m.layers:\n",
        "            l.trainable = val\n",
        "\n",
        "\n",
        "    def _build_adversarial(self):\n",
        "        \n",
        "        ### COMPILE DISCRIMINATOR\n",
        "\n",
        "        self.discriminator.compile(\n",
        "        optimizer=self.get_opti(self.discriminator_learning_rate)  \n",
        "        , loss = 'binary_crossentropy'\n",
        "        ,  metrics = ['accuracy']\n",
        "        )\n",
        "        \n",
        "        ### COMPILE THE FULL GAN\n",
        "\n",
        "        self.set_trainable(self.discriminator, False)\n",
        "\n",
        "        model_input = Input(shape=(self.z_dim,), name='model_input')\n",
        "        model_output = self.discriminator(self.generator(model_input))\n",
        "        self.model = Model(model_input, model_output)\n",
        "\n",
        "        self.model.compile(optimizer=self.get_opti(self.generator_learning_rate) , loss='binary_crossentropy', metrics=['accuracy'])\n",
        "\n",
        "        self.set_trainable(self.discriminator, True)\n",
        "\n",
        "\n",
        "\n",
        "    \n",
        "    def train_discriminator(self, x_train, batch_size, using_generator):\n",
        "\n",
        "        valid = np.ones((batch_size,1))\n",
        "        fake = np.zeros((batch_size,1))\n",
        "\n",
        "        if using_generator:\n",
        "            true_imgs = next(x_train)[0]\n",
        "            if true_imgs.shape[0] != batch_size:\n",
        "                true_imgs = next(x_train)[0]\n",
        "        else:\n",
        "            idx = np.random.randint(0, x_train.shape[0], batch_size)\n",
        "            true_imgs = x_train[idx]\n",
        "        \n",
        "        noise = np.random.normal(0, 1, (batch_size, self.z_dim))\n",
        "        gen_imgs = self.generator.predict(noise)\n",
        "\n",
        "        d_loss_real, d_acc_real =   self.discriminator.train_on_batch(true_imgs, valid)\n",
        "        d_loss_fake, d_acc_fake =   self.discriminator.train_on_batch(gen_imgs, fake)\n",
        "        d_loss =  0.5 * (d_loss_real + d_loss_fake)\n",
        "        d_acc = 0.5 * (d_acc_real + d_acc_fake)\n",
        "\n",
        "        return [d_loss, d_loss_real, d_loss_fake, d_acc, d_acc_real, d_acc_fake]\n",
        "\n",
        "    def train_generator(self, batch_size):\n",
        "        valid = np.ones((batch_size,1))\n",
        "        noise = np.random.normal(0, 1, (batch_size, self.z_dim))\n",
        "        return self.model.train_on_batch(noise, valid)\n",
        "\n",
        "\n",
        "    def train(self, x_train, batch_size, epochs, run_folder\n",
        "    , print_every_n_batches = 50\n",
        "    , using_generator = False):\n",
        "\n",
        "        for epoch in range(self.epoch, self.epoch + epochs):\n",
        "\n",
        "            d = self.train_discriminator(x_train, batch_size, using_generator)\n",
        "            g = self.train_generator(batch_size)\n",
        "\n",
        "            print (\"%d [D loss: (%.3f)(R %.3f, F %.3f)] [D acc: (%.3f)(%.3f, %.3f)] [G loss: %.3f] [G acc: %.3f]\" % (epoch, d[0], d[1], d[2], d[3], d[4], d[5], g[0], g[1]))\n",
        "\n",
        "            self.d_losses.append(d)\n",
        "            self.g_losses.append(g)\n",
        "\n",
        "            if epoch % print_every_n_batches == 0:\n",
        "                self.sample_images(run_folder)\n",
        "                self.model.save_weights(os.path.join(run_folder, 'weights/weights-%d.h5' % (epoch)))\n",
        "                self.model.save_weights(os.path.join(run_folder, 'weights/weights.h5'))\n",
        "                self.save_model(run_folder)\n",
        "\n",
        "            self.epoch += 1\n",
        "\n",
        "    \n",
        "    def sample_images(self, run_folder):\n",
        "        r, c = 5, 5\n",
        "        noise = np.random.normal(0, 1, (r * c, self.z_dim))\n",
        "        gen_imgs = self.generator.predict(noise)\n",
        "\n",
        "        gen_imgs = 0.5 * (gen_imgs + 1)\n",
        "        gen_imgs = np.clip(gen_imgs, 0, 1)\n",
        "\n",
        "        fig, axs = plt.subplots(r, c, figsize=(15,15))\n",
        "        cnt = 0\n",
        "\n",
        "        for i in range(r):\n",
        "            for j in range(c):\n",
        "                axs[i,j].imshow(np.squeeze(gen_imgs[cnt, :,:,:]), cmap = 'gray')\n",
        "                axs[i,j].axis('off')\n",
        "                cnt += 1\n",
        "        fig.savefig(os.path.join(run_folder, \"images/sample_%d.png\" % self.epoch))\n",
        "        plt.close()\n",
        "\n",
        "\n",
        "\n",
        "\n",
        "    \n",
        "    def plot_model(self, run_folder):\n",
        "        plot_model(self.model, to_file=os.path.join(run_folder ,'viz/model.png'), show_shapes = True, show_layer_names = True)\n",
        "        plot_model(self.discriminator, to_file=os.path.join(run_folder ,'viz/discriminator.png'), show_shapes = True, show_layer_names = True)\n",
        "        plot_model(self.generator, to_file=os.path.join(run_folder ,'viz/generator.png'), show_shapes = True, show_layer_names = True)\n",
        "\n",
        "\n",
        "\n",
        "    def save(self, folder):\n",
        "\n",
        "        with open(os.path.join(folder, 'params.pkl'), 'wb') as f:\n",
        "            pkl.dump([\n",
        "                self.input_dim\n",
        "                , self.discriminator_conv_filters\n",
        "                , self.discriminator_conv_kernel_size\n",
        "                , self.discriminator_conv_strides\n",
        "                , self.discriminator_batch_norm_momentum\n",
        "                , self.discriminator_activation\n",
        "                , self.discriminator_dropout_rate\n",
        "                , self.discriminator_learning_rate\n",
        "                , self.generator_initial_dense_layer_size\n",
        "                , self.generator_upsample\n",
        "                , self.generator_conv_filters\n",
        "                , self.generator_conv_kernel_size\n",
        "                , self.generator_conv_strides\n",
        "                , self.generator_batch_norm_momentum\n",
        "                , self.generator_activation\n",
        "                , self.generator_dropout_rate\n",
        "                , self.generator_learning_rate\n",
        "                , self.optimiser\n",
        "                , self.z_dim\n",
        "                ], f)\n",
        "\n",
        "        self.plot_model(folder)\n",
        "\n",
        "    def save_model(self, run_folder):\n",
        "        self.model.save(os.path.join(run_folder, 'model.h5'))\n",
        "        self.discriminator.save(os.path.join(run_folder, 'discriminator.h5'))\n",
        "        self.generator.save(os.path.join(run_folder, 'generator.h5'))\n",
        "        pkl.dump(self, open( os.path.join(run_folder, \"obj.pkl\"), \"wb\" ))\n",
        "\n",
        "    def load_weights(self, filepath):\n",
        "        self.model.load_weights(filepath)\n"
      ],
      "execution_count": 22,
      "outputs": []
    },
    {
      "cell_type": "code",
      "metadata": {
        "id": "R4qqEu7N8e3k",
        "outputId": "cd69ec56-07a4-470a-f71b-e2afdd68b8f8",
        "colab": {
          "base_uri": "https://localhost:8080/",
          "height": 35
        }
      },
      "source": [
        "os.chdir(\"/content/drive/My Drive/Colab Notebooks/ArtisticAnimals\")\n",
        "!ls"
      ],
      "execution_count": 26,
      "outputs": [
        {
          "output_type": "stream",
          "text": [
            "Gan_train.ipynb  images  saved_models\n"
          ],
          "name": "stdout"
        }
      ]
    },
    {
      "cell_type": "code",
      "metadata": {
        "id": "KPt06eVOtCo2"
      },
      "source": [
        "# run params\n",
        "GENERATE_RES = 3 # Generation resolution factor \n",
        "# (1=32, 2=64, 3=96, 4=128, etc.)\n",
        "GENERATE_SQUARE = 32 * GENERATE_RES # rows/cols (should be square)\n",
        "IMAGE_CHANNELS = 3\n",
        "\n",
        "SEED_SIZE = 100\n",
        "\n",
        "# Preview image \n",
        "PREVIEW_ROWS = 4\n",
        "PREVIEW_COLS = 7\n",
        "PREVIEW_MARGIN = 16\n",
        "\n",
        "SECTION = 'gan'\n",
        "RUN_ID = '0001'\n",
        "DATA_NAME = 'pekinese'\n",
        "DATA_PATH = '/content/drive/My Drive/Colab Notebooks/ArtisticAnimals/run/0001_pekinese'\n",
        "\n",
        "BATCH_SIZE = 64\n",
        "BUFFER_SIZE = 60000\n",
        "EPOCHS = 6000\n",
        "PRINT_EVERY_N_BATCHES = 5\n",
        "\n",
        "mode =  'build' #'load' #"
      ],
      "execution_count": 78,
      "outputs": []
    },
    {
      "cell_type": "code",
      "metadata": {
        "id": "KAOidPIfNfgF",
        "outputId": "cea219e4-acb9-426f-9508-32796b4de6fe",
        "colab": {
          "base_uri": "https://localhost:8080/",
          "height": 90
        }
      },
      "source": [
        "training_binary_path = os.path.join(DATA_PATH,\n",
        "        f'training_data_{GENERATE_SQUARE}_{GENERATE_SQUARE}.npy')\n",
        "\n",
        "if not os.path.isfile(training_binary_path):\n",
        "  start = time.time()\n",
        "  print(\"Loading training images...\")\n",
        "\n",
        "  training_data = []\n",
        "  faces_path = os.path.join(DATA_PATH,'images')\n",
        "  for filename in tqdm(os.listdir(faces_path)):\n",
        "      path = os.path.join(faces_path,filename)\n",
        "      image = Image.open(path).resize((GENERATE_SQUARE,\n",
        "            GENERATE_SQUARE),Image.ANTIALIAS)\n",
        "      training_data.append(np.asarray(image))\n",
        "  training_data = np.reshape(training_data,(-1,GENERATE_SQUARE,\n",
        "            GENERATE_SQUARE,IMAGE_CHANNELS))\n",
        "  training_data = training_data.astype(np.float32)\n",
        "  training_data = training_data / 127.5 - 1.\n",
        "\n",
        "  print(\"Saving training image binary...\")\n",
        "  np.save(training_binary_path,training_data)\n",
        "  elapsed = time.time()-start\n",
        "  print (f'Image preprocess time: {hms_string(elapsed)}')\n",
        "else:\n",
        "  print(\"Loading previous training pickle...\")\n",
        "  training_data = np.load(training_binary_path)"
      ],
      "execution_count": 41,
      "outputs": [
        {
          "output_type": "stream",
          "text": [
            "\r  0%|          | 0/149 [00:00<?, ?it/s]"
          ],
          "name": "stderr"
        },
        {
          "output_type": "stream",
          "text": [
            "Loading training images...\n"
          ],
          "name": "stdout"
        },
        {
          "output_type": "stream",
          "text": [
            "100%|██████████| 149/149 [01:06<00:00,  2.26it/s]"
          ],
          "name": "stderr"
        },
        {
          "output_type": "stream",
          "text": [
            "Saving training image binary...\n",
            "Image preprocess time: 0:01:06.19\n"
          ],
          "name": "stdout"
        },
        {
          "output_type": "stream",
          "text": [
            "\n"
          ],
          "name": "stderr"
        }
      ]
    },
    {
      "cell_type": "code",
      "metadata": {
        "id": "sej5NzvAWC9x",
        "outputId": "9dacc764-9483-4bc5-ac66-0330cd3cdf7d",
        "colab": {
          "base_uri": "https://localhost:8080/",
          "height": 35
        }
      },
      "source": [
        "# Batch and shuffle the data\n",
        "train_dataset = tf.data.Dataset.from_tensor_slices(training_data) \\\n",
        "    .shuffle(BUFFER_SIZE).batch(BATCH_SIZE)"
      ],
      "execution_count": 65,
      "outputs": [
        {
          "output_type": "execute_result",
          "data": {
            "text/plain": [
              "(149, 96, 96, 3)"
            ]
          },
          "metadata": {
            "tags": []
          },
          "execution_count": 65
        }
      ]
    },
    {
      "cell_type": "code",
      "metadata": {
        "id": "W2ucvyE9QQUU"
      },
      "source": [
        "def build_generator(seed_size, channels):\n",
        "    model = Sequential()\n",
        "\n",
        "    model.add(Dense(4*4*256,activation=\"relu\",input_dim=seed_size))\n",
        "    model.add(Reshape((4,4,256)))\n",
        "\n",
        "    model.add(UpSampling2D())\n",
        "    model.add(Conv2D(256,kernel_size=3,padding=\"same\"))\n",
        "    model.add(BatchNormalization(momentum=0.8))\n",
        "    model.add(Activation(\"relu\"))\n",
        "\n",
        "    model.add(UpSampling2D())\n",
        "    model.add(Conv2D(256,kernel_size=3,padding=\"same\"))\n",
        "    model.add(BatchNormalization(momentum=0.8))\n",
        "    model.add(Activation(\"relu\"))\n",
        "   \n",
        "    # Output resolution, additional upsampling\n",
        "    model.add(UpSampling2D())\n",
        "    model.add(Conv2D(128,kernel_size=3,padding=\"same\"))\n",
        "    model.add(BatchNormalization(momentum=0.8))\n",
        "    model.add(Activation(\"relu\"))\n",
        "\n",
        "    if GENERATE_RES>1:\n",
        "      model.add(UpSampling2D(size=(GENERATE_RES,GENERATE_RES)))\n",
        "      model.add(Conv2D(128,kernel_size=3,padding=\"same\"))\n",
        "      model.add(BatchNormalization(momentum=0.8))\n",
        "      model.add(Activation(\"relu\"))\n",
        "\n",
        "    # Final CNN layer\n",
        "    model.add(Conv2D(channels,kernel_size=3,padding=\"same\"))\n",
        "    model.add(Activation(\"tanh\"))\n",
        "\n",
        "    return model\n",
        "\n",
        "\n",
        "def build_discriminator(image_shape):\n",
        "    model = Sequential()\n",
        "\n",
        "    model.add(Conv2D(32, kernel_size=3, strides=2, input_shape=image_shape, \n",
        "                     padding=\"same\"))\n",
        "    model.add(LeakyReLU(alpha=0.2))\n",
        "\n",
        "    model.add(Dropout(0.25))\n",
        "    model.add(Conv2D(64, kernel_size=3, strides=2, padding=\"same\"))\n",
        "    model.add(ZeroPadding2D(padding=((0,1),(0,1))))\n",
        "    model.add(BatchNormalization(momentum=0.8))\n",
        "    model.add(LeakyReLU(alpha=0.2))\n",
        "\n",
        "    model.add(Dropout(0.25))\n",
        "    model.add(Conv2D(128, kernel_size=3, strides=2, padding=\"same\"))\n",
        "    model.add(BatchNormalization(momentum=0.8))\n",
        "    model.add(LeakyReLU(alpha=0.2))\n",
        "\n",
        "    model.add(Dropout(0.25))\n",
        "    model.add(Conv2D(256, kernel_size=3, strides=1, padding=\"same\"))\n",
        "    model.add(BatchNormalization(momentum=0.8))\n",
        "    model.add(LeakyReLU(alpha=0.2))\n",
        "\n",
        "    model.add(Dropout(0.25))\n",
        "    model.add(Conv2D(512, kernel_size=3, strides=1, padding=\"same\"))\n",
        "    model.add(BatchNormalization(momentum=0.8))\n",
        "    model.add(LeakyReLU(alpha=0.2))\n",
        "\n",
        "    model.add(Dropout(0.25))\n",
        "    model.add(Flatten())\n",
        "    model.add(Dense(1, activation='sigmoid'))\n",
        "\n",
        "    return model"
      ],
      "execution_count": 67,
      "outputs": []
    },
    {
      "cell_type": "code",
      "metadata": {
        "id": "XUI_HrZuHRbU"
      },
      "source": [
        "def save_images(cnt,noise):\n",
        "  image_array = np.full(( \n",
        "      PREVIEW_MARGIN + (PREVIEW_ROWS * (GENERATE_SQUARE+PREVIEW_MARGIN)), \n",
        "      PREVIEW_MARGIN + (PREVIEW_COLS * (GENERATE_SQUARE+PREVIEW_MARGIN)), 3), \n",
        "      255, dtype=np.uint8)\n",
        "  \n",
        "  generated_images = generator.predict(noise)\n",
        "\n",
        "  generated_images = 0.5 * generated_images + 0.5\n",
        "\n",
        "  image_count = 0\n",
        "  for row in range(PREVIEW_ROWS):\n",
        "      for col in range(PREVIEW_COLS):\n",
        "        r = row * (GENERATE_SQUARE+16) + PREVIEW_MARGIN\n",
        "        c = col * (GENERATE_SQUARE+16) + PREVIEW_MARGIN\n",
        "        image_array[r:r+GENERATE_SQUARE,c:c+GENERATE_SQUARE] \\\n",
        "            = generated_images[image_count] * 255\n",
        "        image_count += 1\n",
        "\n",
        "          \n",
        "  output_path = os.path.join(DATA_PATH,'output')\n",
        "  if not os.path.exists(output_path):\n",
        "    os.makedirs(output_path)\n",
        "  \n",
        "  filename = os.path.join(output_path,f\"train-{cnt}.png\")\n",
        "  im = Image.fromarray(image_array)\n",
        "  im.save(filename)"
      ],
      "execution_count": 68,
      "outputs": []
    },
    {
      "cell_type": "code",
      "metadata": {
        "id": "w2lGGwzPHX3T",
        "outputId": "4c2e0a55-2f18-4ba9-ceb9-4d21e8235026",
        "colab": {
          "base_uri": "https://localhost:8080/",
          "height": 286
        }
      },
      "source": [
        "generator = build_generator(SEED_SIZE, IMAGE_CHANNELS)\n",
        "\n",
        "noise = tf.random.normal([1, SEED_SIZE])\n",
        "generated_image = generator(noise, training=False)\n",
        "\n",
        "plt.imshow(generated_image[0, :, :, 0])"
      ],
      "execution_count": 71,
      "outputs": [
        {
          "output_type": "execute_result",
          "data": {
            "text/plain": [
              "<matplotlib.image.AxesImage at 0x7f4bb765ff28>"
            ]
          },
          "metadata": {
            "tags": []
          },
          "execution_count": 71
        },
        {
          "output_type": "display_data",
          "data": {
            "image/png": "[encoded data removed]",
            "text/plain": [
              "<Figure size 432x288 with 1 Axes>"
            ]
          },
          "metadata": {
            "tags": [],
            "needs_background": "light"
          }
        }
      ]
    },
    {
      "cell_type": "code",
      "metadata": {
        "id": "JMBC3xAEHZwv",
        "outputId": "67965f0a-fa1b-43c2-eaea-e30daa6e282e",
        "colab": {
          "base_uri": "https://localhost:8080/",
          "height": 35
        }
      },
      "source": [
        "image_shape = (GENERATE_SQUARE,GENERATE_SQUARE,IMAGE_CHANNELS)\n",
        "\n",
        "discriminator = build_discriminator(image_shape)\n",
        "decision = discriminator(generated_image)\n",
        "print (decision)"
      ],
      "execution_count": 72,
      "outputs": [
        {
          "output_type": "stream",
          "text": [
            "tf.Tensor([[0.500579]], shape=(1, 1), dtype=float32)\n"
          ],
          "name": "stdout"
        }
      ]
    },
    {
      "cell_type": "code",
      "metadata": {
        "id": "GQ_d5yfOHcQK"
      },
      "source": [
        "# This method returns a helper function to compute cross entropy loss\n",
        "cross_entropy = tf.keras.losses.BinaryCrossentropy(from_logits=True)\n",
        "\n",
        "def discriminator_loss(real_output, fake_output):\n",
        "    real_loss = cross_entropy(tf.ones_like(real_output), real_output)\n",
        "    fake_loss = cross_entropy(tf.zeros_like(fake_output), fake_output)\n",
        "    total_loss = real_loss + fake_loss\n",
        "    return total_loss\n",
        "\n",
        "def generator_loss(fake_output):\n",
        "    return cross_entropy(tf.ones_like(fake_output), fake_output)"
      ],
      "execution_count": 73,
      "outputs": []
    },
    {
      "cell_type": "code",
      "metadata": {
        "id": "iZfcP8m3HeIl"
      },
      "source": [
        "generator_optimizer = tf.keras.optimizers.Adam(1.5e-4,0.5)\n",
        "discriminator_optimizer = tf.keras.optimizers.Adam(1.5e-4,0.5)"
      ],
      "execution_count": 74,
      "outputs": []
    },
    {
      "cell_type": "code",
      "metadata": {
        "id": "weHBAnN4Hft1"
      },
      "source": [
        "# Notice the use of `tf.function`\n",
        "# This annotation causes the function to be \"compiled\".\n",
        "@tf.function\n",
        "def train_step(images):\n",
        "  seed = tf.random.normal([BATCH_SIZE, SEED_SIZE])\n",
        "\n",
        "  with tf.GradientTape() as gen_tape, tf.GradientTape() as disc_tape:\n",
        "    generated_images = generator(seed, training=True)\n",
        "\n",
        "    real_output = discriminator(images, training=True)\n",
        "    fake_output = discriminator(generated_images, training=True)\n",
        "\n",
        "    gen_loss = generator_loss(fake_output)\n",
        "    disc_loss = discriminator_loss(real_output, fake_output)\n",
        "    \n",
        "\n",
        "    gradients_of_generator = gen_tape.gradient(\\\n",
        "        gen_loss, generator.trainable_variables)\n",
        "    gradients_of_discriminator = disc_tape.gradient(\\\n",
        "        disc_loss, discriminator.trainable_variables)\n",
        "\n",
        "    generator_optimizer.apply_gradients(zip(\n",
        "        gradients_of_generator, generator.trainable_variables))\n",
        "    discriminator_optimizer.apply_gradients(zip(\n",
        "        gradients_of_discriminator, \n",
        "        discriminator.trainable_variables))\n",
        "  return gen_loss,disc_loss"
      ],
      "execution_count": 75,
      "outputs": []
    },
    {
      "cell_type": "code",
      "metadata": {
        "id": "QV-vhYYkcxAZ"
      },
      "source": [
        "def train(dataset, epochs):\n",
        "  fixed_seed = np.random.normal(0, 1, (PREVIEW_ROWS * PREVIEW_COLS, \n",
        "                                       SEED_SIZE))\n",
        "  start = time.time()\n",
        "\n",
        "  for epoch in range(epochs):\n",
        "    epoch_start = time.time()\n",
        "\n",
        "    gen_loss_list = []\n",
        "    disc_loss_list = []\n",
        "\n",
        "    for image_batch in dataset:\n",
        "      t = train_step(image_batch)\n",
        "      gen_loss_list.append(t[0])\n",
        "      disc_loss_list.append(t[1])\n",
        "\n",
        "    g_loss = sum(gen_loss_list) / len(gen_loss_list)\n",
        "    d_loss = sum(disc_loss_list) / len(disc_loss_list)\n",
        "\n",
        "    epoch_elapsed = time.time()-epoch_start\n",
        "    print (f'Epoch {epoch+1}, gen loss={g_loss},disc loss={d_loss},'\\\n",
        "           ' {hms_string(epoch_elapsed)}')\n",
        "    save_images(epoch,fixed_seed)\n",
        "\n",
        "  elapsed = time.time()-start\n",
        "  print (f'Training time: {hms_string(elapsed)}')\n"
      ],
      "execution_count": 76,
      "outputs": []
    },
    {
      "cell_type": "code",
      "metadata": {
        "id": "WMq0BkN4cyzq",
        "outputId": "4d961904-2555-4790-8711-33d871ba6b04",
        "colab": {
          "base_uri": "https://localhost:8080/",
          "height": 1000
        }
      },
      "source": [
        "train(train_dataset, EPOCHS)"
      ],
      "execution_count": null,
      "outputs": [
        {
          "output_type": "stream",
          "text": [
            "Epoch 1, gen loss=0.6087844371795654,disc loss=1.4087225198745728, {hms_string(epoch_elapsed)}\n",
            "Epoch 2, gen loss=0.6175572276115417,disc loss=1.324785828590393, {hms_string(epoch_elapsed)}\n",
            "Epoch 3, gen loss=0.6538423895835876,disc loss=1.322287678718567, {hms_string(epoch_elapsed)}\n",
            "Epoch 4, gen loss=0.6399102807044983,disc loss=1.2372448444366455, {hms_string(epoch_elapsed)}\n",
            "Epoch 5, gen loss=0.6499684453010559,disc loss=1.15133798122406, {hms_string(epoch_elapsed)}\n",
            "Epoch 6, gen loss=0.5991497039794922,disc loss=1.3275543451309204, {hms_string(epoch_elapsed)}\n",
            "Epoch 7, gen loss=0.6926553845405579,disc loss=1.379042625427246, {hms_string(epoch_elapsed)}\n",
            "Epoch 8, gen loss=0.6927469372749329,disc loss=1.376297950744629, {hms_string(epoch_elapsed)}\n",
            "Epoch 9, gen loss=0.6841830611228943,disc loss=1.3448781967163086, {hms_string(epoch_elapsed)}\n",
            "Epoch 10, gen loss=0.6499648094177246,disc loss=1.358829140663147, {hms_string(epoch_elapsed)}\n",
            "Epoch 11, gen loss=0.6882340312004089,disc loss=1.3772879838943481, {hms_string(epoch_elapsed)}\n",
            "Epoch 12, gen loss=0.6918885111808777,disc loss=1.3726272583007812, {hms_string(epoch_elapsed)}\n",
            "Epoch 13, gen loss=0.6873295903205872,disc loss=1.3567179441452026, {hms_string(epoch_elapsed)}\n",
            "Epoch 14, gen loss=0.6805539131164551,disc loss=1.3224681615829468, {hms_string(epoch_elapsed)}\n",
            "Epoch 15, gen loss=0.6839718818664551,disc loss=1.2254700660705566, {hms_string(epoch_elapsed)}\n",
            "Epoch 16, gen loss=0.675652801990509,disc loss=1.0949585437774658, {hms_string(epoch_elapsed)}\n",
            "Epoch 17, gen loss=0.6475962996482849,disc loss=1.1109564304351807, {hms_string(epoch_elapsed)}\n",
            "Epoch 18, gen loss=0.47456467151641846,disc loss=1.5518460273742676, {hms_string(epoch_elapsed)}\n",
            "Epoch 19, gen loss=0.6930835843086243,disc loss=1.3841800689697266, {hms_string(epoch_elapsed)}\n",
            "Epoch 20, gen loss=0.6931471824645996,disc loss=1.38615083694458, {hms_string(epoch_elapsed)}\n",
            "Epoch 21, gen loss=0.6931471824645996,disc loss=1.386203408241272, {hms_string(epoch_elapsed)}\n",
            "Epoch 22, gen loss=0.6931471228599548,disc loss=1.3861161470413208, {hms_string(epoch_elapsed)}\n",
            "Epoch 23, gen loss=0.6931471824645996,disc loss=1.385880470275879, {hms_string(epoch_elapsed)}\n",
            "Epoch 24, gen loss=0.6931471824645996,disc loss=1.3856977224349976, {hms_string(epoch_elapsed)}\n",
            "Epoch 25, gen loss=0.6931471824645996,disc loss=1.3860527276992798, {hms_string(epoch_elapsed)}\n",
            "Epoch 26, gen loss=0.6931471824645996,disc loss=1.3849574327468872, {hms_string(epoch_elapsed)}\n",
            "Epoch 27, gen loss=0.6931460499763489,disc loss=1.3848161697387695, {hms_string(epoch_elapsed)}\n",
            "Epoch 28, gen loss=0.6931471228599548,disc loss=1.3840223550796509, {hms_string(epoch_elapsed)}\n",
            "Epoch 29, gen loss=0.6931469440460205,disc loss=1.3805665969848633, {hms_string(epoch_elapsed)}\n",
            "Epoch 30, gen loss=0.6931460499763489,disc loss=1.3807846307754517, {hms_string(epoch_elapsed)}\n",
            "Epoch 31, gen loss=0.6930809617042542,disc loss=1.3642792701721191, {hms_string(epoch_elapsed)}\n",
            "Epoch 32, gen loss=0.6837441921234131,disc loss=1.3123973608016968, {hms_string(epoch_elapsed)}\n",
            "Epoch 33, gen loss=0.6804595589637756,disc loss=1.2767257690429688, {hms_string(epoch_elapsed)}\n",
            "Epoch 34, gen loss=0.6250874400138855,disc loss=1.3361883163452148, {hms_string(epoch_elapsed)}\n",
            "Epoch 35, gen loss=0.6882757544517517,disc loss=1.280465006828308, {hms_string(epoch_elapsed)}\n",
            "Epoch 36, gen loss=0.6794430613517761,disc loss=1.2246955633163452, {hms_string(epoch_elapsed)}\n",
            "Epoch 37, gen loss=0.6929166913032532,disc loss=1.139479160308838, {hms_string(epoch_elapsed)}\n",
            "Epoch 38, gen loss=0.6844912171363831,disc loss=1.0737472772598267, {hms_string(epoch_elapsed)}\n",
            "Epoch 39, gen loss=0.6894086003303528,disc loss=1.0495927333831787, {hms_string(epoch_elapsed)}\n",
            "Epoch 40, gen loss=0.6849052309989929,disc loss=1.0258820056915283, {hms_string(epoch_elapsed)}\n",
            "Epoch 41, gen loss=0.6861564517021179,disc loss=1.0223850011825562, {hms_string(epoch_elapsed)}\n",
            "Epoch 42, gen loss=0.6635876893997192,disc loss=1.0751301050186157, {hms_string(epoch_elapsed)}\n",
            "Epoch 43, gen loss=0.488994836807251,disc loss=1.4462413787841797, {hms_string(epoch_elapsed)}\n",
            "Epoch 44, gen loss=0.6920058727264404,disc loss=1.1695399284362793, {hms_string(epoch_elapsed)}\n",
            "Epoch 45, gen loss=0.6875879764556885,disc loss=1.0626847743988037, {hms_string(epoch_elapsed)}\n",
            "Epoch 46, gen loss=0.6724257469177246,disc loss=1.039936900138855, {hms_string(epoch_elapsed)}\n",
            "Epoch 47, gen loss=0.5100087523460388,disc loss=1.3094608783721924, {hms_string(epoch_elapsed)}\n",
            "Epoch 48, gen loss=0.5222938060760498,disc loss=1.390674114227295, {hms_string(epoch_elapsed)}\n",
            "Epoch 49, gen loss=0.6819947361946106,disc loss=1.1670693159103394, {hms_string(epoch_elapsed)}\n",
            "Epoch 50, gen loss=0.6764175891876221,disc loss=1.1053231954574585, {hms_string(epoch_elapsed)}\n",
            "Epoch 51, gen loss=0.6484300494194031,disc loss=1.1133036613464355, {hms_string(epoch_elapsed)}\n",
            "Epoch 52, gen loss=0.688834011554718,disc loss=1.0823616981506348, {hms_string(epoch_elapsed)}\n",
            "Epoch 53, gen loss=0.6765177249908447,disc loss=1.0496817827224731, {hms_string(epoch_elapsed)}\n",
            "Epoch 54, gen loss=0.6630919575691223,disc loss=1.0851078033447266, {hms_string(epoch_elapsed)}\n",
            "Epoch 55, gen loss=0.663172721862793,disc loss=1.0770968198776245, {hms_string(epoch_elapsed)}\n",
            "Epoch 56, gen loss=0.6917677521705627,disc loss=1.020797848701477, {hms_string(epoch_elapsed)}\n",
            "Epoch 57, gen loss=0.6899468302726746,disc loss=1.012213110923767, {hms_string(epoch_elapsed)}\n",
            "Epoch 58, gen loss=0.6894119381904602,disc loss=1.0177083015441895, {hms_string(epoch_elapsed)}\n",
            "Epoch 59, gen loss=0.6906380653381348,disc loss=1.018328070640564, {hms_string(epoch_elapsed)}\n",
            "Epoch 60, gen loss=0.689490020275116,disc loss=1.0124326944351196, {hms_string(epoch_elapsed)}\n",
            "Epoch 61, gen loss=0.6928918957710266,disc loss=1.0111074447631836, {hms_string(epoch_elapsed)}\n",
            "Epoch 62, gen loss=0.6915422081947327,disc loss=1.0090131759643555, {hms_string(epoch_elapsed)}\n",
            "Epoch 63, gen loss=0.6921305060386658,disc loss=1.0080113410949707, {hms_string(epoch_elapsed)}\n",
            "Epoch 64, gen loss=0.6911449432373047,disc loss=1.00919508934021, {hms_string(epoch_elapsed)}\n",
            "Epoch 65, gen loss=0.6921491622924805,disc loss=1.0097399950027466, {hms_string(epoch_elapsed)}\n",
            "Epoch 66, gen loss=0.691057026386261,disc loss=1.0096248388290405, {hms_string(epoch_elapsed)}\n",
            "Epoch 67, gen loss=0.678657054901123,disc loss=1.0537790060043335, {hms_string(epoch_elapsed)}\n",
            "Epoch 68, gen loss=0.6618902087211609,disc loss=1.137367844581604, {hms_string(epoch_elapsed)}\n",
            "Epoch 69, gen loss=0.6368758082389832,disc loss=1.20731520652771, {hms_string(epoch_elapsed)}\n",
            "Epoch 70, gen loss=0.678144633769989,disc loss=1.2019139528274536, {hms_string(epoch_elapsed)}\n",
            "Epoch 71, gen loss=0.6722431182861328,disc loss=1.1669472455978394, {hms_string(epoch_elapsed)}\n",
            "Epoch 72, gen loss=0.6320473551750183,disc loss=1.3643461465835571, {hms_string(epoch_elapsed)}\n",
            "Epoch 73, gen loss=0.6930420994758606,disc loss=1.3860543966293335, {hms_string(epoch_elapsed)}\n",
            "Epoch 74, gen loss=0.6931459307670593,disc loss=1.3862886428833008, {hms_string(epoch_elapsed)}\n",
            "Epoch 75, gen loss=0.6931470036506653,disc loss=1.3862940073013306, {hms_string(epoch_elapsed)}\n",
            "Epoch 76, gen loss=0.6931470036506653,disc loss=1.386292815208435, {hms_string(epoch_elapsed)}\n",
            "Epoch 77, gen loss=0.6931471228599548,disc loss=1.386293888092041, {hms_string(epoch_elapsed)}\n",
            "Epoch 78, gen loss=0.6931468844413757,disc loss=1.3862918615341187, {hms_string(epoch_elapsed)}\n",
            "Epoch 79, gen loss=0.6931469440460205,disc loss=1.3862892389297485, {hms_string(epoch_elapsed)}\n",
            "Epoch 80, gen loss=0.6931468844413757,disc loss=1.3862920999526978, {hms_string(epoch_elapsed)}\n",
            "Epoch 81, gen loss=0.6931469440460205,disc loss=1.3862937688827515, {hms_string(epoch_elapsed)}\n",
            "Epoch 82, gen loss=0.6931467056274414,disc loss=1.3862937688827515, {hms_string(epoch_elapsed)}\n",
            "Epoch 83, gen loss=0.6931467652320862,disc loss=1.3862940073013306, {hms_string(epoch_elapsed)}\n",
            "Epoch 84, gen loss=0.6931461691856384,disc loss=1.3862940073013306, {hms_string(epoch_elapsed)}\n",
            "Epoch 85, gen loss=0.6931468844413757,disc loss=1.386289119720459, {hms_string(epoch_elapsed)}\n",
            "Epoch 86, gen loss=0.6931462287902832,disc loss=1.3862942457199097, {hms_string(epoch_elapsed)}\n",
            "Epoch 87, gen loss=0.6931470036506653,disc loss=1.386290192604065, {hms_string(epoch_elapsed)}\n",
            "Epoch 88, gen loss=0.6931470036506653,disc loss=1.386288046836853, {hms_string(epoch_elapsed)}\n",
            "Epoch 89, gen loss=0.6931471228599548,disc loss=1.3862895965576172, {hms_string(epoch_elapsed)}\n",
            "Epoch 90, gen loss=0.6931462287902832,disc loss=1.3862924575805664, {hms_string(epoch_elapsed)}\n",
            "Epoch 91, gen loss=0.6931470036506653,disc loss=1.3862911462783813, {hms_string(epoch_elapsed)}\n",
            "Epoch 92, gen loss=0.6931324005126953,disc loss=1.3863013982772827, {hms_string(epoch_elapsed)}\n",
            "Epoch 93, gen loss=0.6931384205818176,disc loss=1.3863013982772827, {hms_string(epoch_elapsed)}\n",
            "Epoch 94, gen loss=0.6931460499763489,disc loss=1.3862797021865845, {hms_string(epoch_elapsed)}\n",
            "Epoch 95, gen loss=0.6931456923484802,disc loss=1.386294960975647, {hms_string(epoch_elapsed)}\n",
            "Epoch 96, gen loss=0.6931464672088623,disc loss=1.3862944841384888, {hms_string(epoch_elapsed)}\n",
            "Epoch 97, gen loss=0.6931470036506653,disc loss=1.3862929344177246, {hms_string(epoch_elapsed)}\n",
            "Epoch 98, gen loss=0.6931471824645996,disc loss=1.3862930536270142, {hms_string(epoch_elapsed)}\n",
            "Epoch 99, gen loss=0.6931468844413757,disc loss=1.3862940073013306, {hms_string(epoch_elapsed)}\n",
            "Epoch 100, gen loss=0.6931467652320862,disc loss=1.3862913846969604, {hms_string(epoch_elapsed)}\n",
            "Epoch 101, gen loss=0.693145751953125,disc loss=1.3862849473953247, {hms_string(epoch_elapsed)}\n",
            "Epoch 102, gen loss=0.6931468844413757,disc loss=1.3862937688827515, {hms_string(epoch_elapsed)}\n",
            "Epoch 103, gen loss=0.6931469440460205,disc loss=1.3862934112548828, {hms_string(epoch_elapsed)}\n"
          ],
          "name": "stdout"
        }
      ]
    },
    {
      "cell_type": "code",
      "metadata": {
        "id": "I9cEaVKOdFIL"
      },
      "source": [
        "generator.save(os.path.join(DATA_PATH,\"pekinese_generator.h5\"))"
      ],
      "execution_count": null,
      "outputs": []
    }
  ]
}